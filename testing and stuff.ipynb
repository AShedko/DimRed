{
 "cells": [
  {
   "cell_type": "code",
   "execution_count": 2,
   "metadata": {},
   "outputs": [
    {
     "data": {
      "text/html": [
       "<div id=\"interact-js-shim\">\n",
       "    <script charset=\"utf-8\">\n",
       "(function (IPython, $, _, MathJax) {\n",
       "    $.event.special.destroyed = {\n",
       "\tremove: function(o) {\n",
       "\t    if (o.handler) {\n",
       "\t\to.handler.apply(this, arguments)\n",
       "\t    }\n",
       "\t}\n",
       "    }\n",
       "\n",
       "    var OutputArea = IPython.version >= \"4.0.0\" ? require(\"notebook/js/outputarea\").OutputArea : IPython.OutputArea;\n",
       "\n",
       "    var redrawValue = function (container, type, val) {\n",
       "\tvar selector = $(\"<div/>\");\n",
       "\tvar oa = new OutputArea(_.extend(selector, {\n",
       "\t    selector: selector,\n",
       "\t    prompt_area: true,\n",
       "\t    events: IPython.events,\n",
       "\t    keyboard_manager: IPython.keyboard_manager\n",
       "\t})); // Hack to work with IPython 2.1.0\n",
       "\n",
       "\tswitch (type) {\n",
       "\tcase \"image/png\":\n",
       "            var _src = 'data:' + type + ';base64,' + val;\n",
       "\t    $(container).find(\"img\").attr('src', _src);\n",
       "\t    break;\n",
       "\tcase \"text/latex\":\n",
       "\t\tif (MathJax){\n",
       "\t\t\tvar math = MathJax.Hub.getAllJax(container)[0];\n",
       "\t\t\tMathJax.Hub.Queue([\"Text\", math, val.replace(/^\\${1,2}|\\${1,2}$/g, '')]);\n",
       "\t\t\tbreak;\n",
       "\t\t}\n",
       "\tdefault:\n",
       "\t    var toinsert = OutputArea.append_map[type].apply(\n",
       "\t\toa, [val, {}, selector]\n",
       "\t    );\n",
       "\t    $(container).empty().append(toinsert.contents());\n",
       "\t    selector.remove();\n",
       "\t}\n",
       "    }\n",
       "\n",
       "\n",
       "    $(document).ready(function() {\n",
       "\tfunction initComm(evt, data) {\n",
       "\t    var comm_manager = data.kernel.comm_manager;\n",
       "        //_.extend(comm_manager.targets, require(\"widgets/js/widget\"))\n",
       "\t    comm_manager.register_target(\"Signal\", function (comm) {\n",
       "            comm.on_msg(function (msg) {\n",
       "                var val = msg.content.data.value;\n",
       "                $(\".signal-\" + comm.comm_id).each(function() {\n",
       "                var type = $(this).data(\"type\");\n",
       "                if (typeof(val[type]) !== \"undefined\" && val[type] !== null) {\n",
       "                    redrawValue(this, type, val[type], type);\n",
       "                }\n",
       "                });\n",
       "                delete val;\n",
       "                delete msg.content.data.value;\n",
       "            });\n",
       "\t    });\n",
       "\n",
       "\t    // coordingate with Comm and redraw Signals\n",
       "\t    // XXX: Test using Reactive here to improve performance\n",
       "\t    $([IPython.events]).on(\n",
       "\t\t'output_appended.OutputArea', function (event, type, value, md, toinsert) {\n",
       "\t\t    if (md && md.reactive) {\n",
       "                // console.log(md.comm_id);\n",
       "                toinsert.addClass(\"signal-\" + md.comm_id);\n",
       "                toinsert.data(\"type\", type);\n",
       "                // Signal back indicating the mimetype required\n",
       "                var comm_manager = IPython.notebook.kernel.comm_manager;\n",
       "                var comm = comm_manager.comms[md.comm_id];\n",
       "                comm.then(function (c) {\n",
       "                    c.send({action: \"subscribe_mime\",\n",
       "                       mime: type});\n",
       "                    toinsert.bind(\"destroyed\", function() {\n",
       "                        c.send({action: \"unsubscribe_mime\",\n",
       "                               mime: type});\n",
       "                    });\n",
       "                })\n",
       "\t\t    }\n",
       "\t    });\n",
       "\t}\n",
       "\n",
       "\ttry {\n",
       "\t    // try to initialize right away. otherwise, wait on the status_started event.\n",
       "\t    initComm(undefined, IPython.notebook);\n",
       "\t} catch (e) {\n",
       "\t    $([IPython.events]).on('kernel_created.Kernel kernel_created.Session', initComm);\n",
       "\t}\n",
       "    });\n",
       "})(IPython, jQuery, _, MathJax);\n",
       "</script>\n",
       "    <script>\n",
       "        window.interactLoadedFlag = true\n",
       "       $(\"#interact-js-shim\").bind(\"destroyed\", function () {\n",
       "           if (window.interactLoadedFlag) {\n",
       "               console.warn(\"JavaScript required by Interact will be removed if you remove this cell or run using Interact more than once.\")\n",
       "           }\n",
       "       })\n",
       "       $([IPython.events]).on(\"kernel_starting.Kernel kernel_restarting.Kernel\", function () { window.interactLoadedFlag = false })\n",
       "   </script>\n",
       "</div>"
      ]
     },
     "metadata": {},
     "output_type": "display_data",
     "source": "julia"
    },
    {
     "data": {
      "text/plain": [
       "mn_cor"
      ]
     },
     "execution_count": 2,
     "metadata": {},
     "output_type": "execute_result"
    }
   ],
   "source": [
    "isdefined(:PATH) || include(\"consts.jl\")\n",
    "using NIfTI, OnlineStats, KurchatovFMRI, Plots\n",
    "using ImageView, GtkReactive, Colors, OffsetArrays\n",
    "using ExcelReaders, ImageFiltering, Stats, Distributions, Makie\n",
    "using ImageView, Images, Optim, HypothesisTests\n",
    "pyplot()\n",
    "\n",
    "\"\"\"\n",
    "Exponential weighted Moving average of an array,\n",
    "calculated online\n",
    "\"\"\"\n",
    "@inline function ewma(Y,λ = 0.3)\n",
    "    s = Series(ExponentialWeight(λ), Mean())\n",
    "    V = similar(Y)\n",
    "    for (i,v) in enumerate(Y)\n",
    "        fit!(s,v);\n",
    "        V[i] = OnlineStats.value(s)[1]\n",
    "    end\n",
    "    V\n",
    "end\n",
    "\n",
    "\"\"\"\n",
    "Delta-ball coordinates\n",
    "\"\"\"\n",
    "δ(ind::CartesianIndex, d=1) = CartesianRange(ind-d, ind+d)\n",
    "\n",
    "#Helper functions for shapes\n",
    "i2s(i) = ind2sub(SHAPE,i)\n",
    "s2i(s) = sub2ind(SHAPE,s...)\n",
    "s2i(s::CartesianIndex) = sub2ind(SHAPE,s.I...)\n",
    "\n",
    "d = 3\n",
    "D(ci) = [\n",
    "    [ci+CartesianIndex((i,i,0)) for i = -d:d:d]...,\n",
    "    [ci+CartesianIndex((0,i,i)) for i = -d:d:d]...,\n",
    "    [ci+CartesianIndex((i,0,i)) for i = -d:d:d]...\n",
    "]\n",
    "\n",
    "\"\"\"\n",
    "Mean of the correltaion matrix for delta-ball\n",
    "around `cent` \n",
    "\"\"\"\n",
    "function mn_cor(ni,cent, X = 1:400)    \n",
    "    TS = reshape([ewma(ni[coord.I...,X], 0.1) for coord in δ(cent)], (27))   \n",
    "    mean(cor(t1,t2) for t1 in TS, t2 in TS )\n",
    "end"
   ]
  },
  {
   "cell_type": "code",
   "execution_count": null,
   "metadata": {},
   "outputs": [],
   "source": [
    "subj = 1;\n",
    "ni = niread(\"/media/ashedko/_data_/datasets/UNC/$subj/detrended.nii\", mmap = true);\n",
    "\n",
    "diff = open(\"out/dist_1_S.ser\", \"r\") do f\n",
    "  deserialize(f)\n",
    "end\n",
    "# maxs = [maximum(mat[:,i]) for i in 1:SIZE]\n",
    "# maxs = reshape(maxs,SHAPE);Z = zeros(SHAPE)\n",
    "kd_m = KData(PATH,\"1/mean.nii\",\"logs/1.*\",\n",
    "  x->x)\n",
    "mn = kd_m.data\n",
    "\n",
    "# sobel operator kernels for X Y Z\n",
    "deltas = [Array(reshape(Kernel.sobel((true,true,true),x)[1], (3,3,3))) for x in 1:3]\n",
    "G = zeros(SIZE) # Result of applying sobel to matrices of distances to the point\n",
    "for i =1:SIZE\n",
    "  Df = [sum(del.*reshape(diff[:,i], (3,3,3))) for del in deltas] # Offset array stuff is needed to match the shifted indextes \n",
    "  G[i] = sqrt(sum((x->x^2).(Df)))\n",
    "end\n",
    "\n",
    "Gl = reshape(G,SHAPE)\n",
    "d = 1\n",
    "Gclear = copy(Gl); # clearing eges of the frame\n",
    "Gclear[:,:,1:2] .= 0 \n",
    "Gclear[:,1:2,:] .= 0 \n",
    "Gclear[1:2,:,:] .= 0 \n",
    "\n",
    "Gclear[:,:,end-1:end] .= 0 \n",
    "Gclear[:,end-1:end,:] .= 0 \n",
    "Gclear[end-1:end,:,:] .= 0;\n"
   ]
  },
  {
   "cell_type": "code",
   "execution_count": 24,
   "metadata": {},
   "outputs": [
    {
     "data": {
      "text/html": [
       "1488.7514060436831"
      ],
      "text/plain": [
       "1488.7514060436831"
      ]
     },
     "execution_count": 24,
     "metadata": {},
     "output_type": "execute_result"
    }
   ],
   "source": [
    "# OffsetArray(1:3,1:3,1:3)"
   ]
  },
  {
   "cell_type": "code",
   "execution_count": null,
   "metadata": {},
   "outputs": [],
   "source": [
    "# el,ind = findmax(Gclear)\n",
    "# i2s(ind)\n",
    "# [repr(x.I) for x in D(cent)]\n",
    "\n",
    "histogram(filter(x->x != 0 && x<2000 ,reshape(Gclear,SIZE)),\n",
    "    size=(800,600))"
   ]
  },
  {
   "cell_type": "code",
   "execution_count": 13,
   "metadata": {
    "collapsed": true
   },
   "outputs": [
    {
     "data": {
      "text/plain": [
       "87×105×87 Array{CartesianIndex{3},3}:\n",
       "[:, :, 1] =\n",
       " CartesianIndex{3}((3, 3, 3))   …  CartesianIndex{3}((3, 107, 3)) \n",
       " CartesianIndex{3}((4, 3, 3))      CartesianIndex{3}((4, 107, 3)) \n",
       " CartesianIndex{3}((5, 3, 3))      CartesianIndex{3}((5, 107, 3)) \n",
       " CartesianIndex{3}((6, 3, 3))      CartesianIndex{3}((6, 107, 3)) \n",
       " CartesianIndex{3}((7, 3, 3))      CartesianIndex{3}((7, 107, 3)) \n",
       " CartesianIndex{3}((8, 3, 3))   …  CartesianIndex{3}((8, 107, 3)) \n",
       " CartesianIndex{3}((9, 3, 3))      CartesianIndex{3}((9, 107, 3)) \n",
       " CartesianIndex{3}((10, 3, 3))     CartesianIndex{3}((10, 107, 3))\n",
       " CartesianIndex{3}((11, 3, 3))     CartesianIndex{3}((11, 107, 3))\n",
       " CartesianIndex{3}((12, 3, 3))     CartesianIndex{3}((12, 107, 3))\n",
       " CartesianIndex{3}((13, 3, 3))  …  CartesianIndex{3}((13, 107, 3))\n",
       " CartesianIndex{3}((14, 3, 3))     CartesianIndex{3}((14, 107, 3))\n",
       " CartesianIndex{3}((15, 3, 3))     CartesianIndex{3}((15, 107, 3))\n",
       " ⋮                              ⋱                                 \n",
       " CartesianIndex{3}((78, 3, 3))  …  CartesianIndex{3}((78, 107, 3))\n",
       " CartesianIndex{3}((79, 3, 3))     CartesianIndex{3}((79, 107, 3))\n",
       " CartesianIndex{3}((80, 3, 3))     CartesianIndex{3}((80, 107, 3))\n",
       " CartesianIndex{3}((81, 3, 3))     CartesianIndex{3}((81, 107, 3))\n",
       " CartesianIndex{3}((82, 3, 3))     CartesianIndex{3}((82, 107, 3))\n",
       " CartesianIndex{3}((83, 3, 3))  …  CartesianIndex{3}((83, 107, 3))\n",
       " CartesianIndex{3}((84, 3, 3))     CartesianIndex{3}((84, 107, 3))\n",
       " CartesianIndex{3}((85, 3, 3))     CartesianIndex{3}((85, 107, 3))\n",
       " CartesianIndex{3}((86, 3, 3))     CartesianIndex{3}((86, 107, 3))\n",
       " CartesianIndex{3}((87, 3, 3))     CartesianIndex{3}((87, 107, 3))\n",
       " CartesianIndex{3}((88, 3, 3))  …  CartesianIndex{3}((88, 107, 3))\n",
       " CartesianIndex{3}((89, 3, 3))     CartesianIndex{3}((89, 107, 3))\n",
       "\n",
       "[:, :, 2] =\n",
       " CartesianIndex{3}((3, 3, 4))   …  CartesianIndex{3}((3, 107, 4)) \n",
       " CartesianIndex{3}((4, 3, 4))      CartesianIndex{3}((4, 107, 4)) \n",
       " CartesianIndex{3}((5, 3, 4))      CartesianIndex{3}((5, 107, 4)) \n",
       " CartesianIndex{3}((6, 3, 4))      CartesianIndex{3}((6, 107, 4)) \n",
       " CartesianIndex{3}((7, 3, 4))      CartesianIndex{3}((7, 107, 4)) \n",
       " CartesianIndex{3}((8, 3, 4))   …  CartesianIndex{3}((8, 107, 4)) \n",
       " CartesianIndex{3}((9, 3, 4))      CartesianIndex{3}((9, 107, 4)) \n",
       " CartesianIndex{3}((10, 3, 4))     CartesianIndex{3}((10, 107, 4))\n",
       " CartesianIndex{3}((11, 3, 4))     CartesianIndex{3}((11, 107, 4))\n",
       " CartesianIndex{3}((12, 3, 4))     CartesianIndex{3}((12, 107, 4))\n",
       " CartesianIndex{3}((13, 3, 4))  …  CartesianIndex{3}((13, 107, 4))\n",
       " CartesianIndex{3}((14, 3, 4))     CartesianIndex{3}((14, 107, 4))\n",
       " CartesianIndex{3}((15, 3, 4))     CartesianIndex{3}((15, 107, 4))\n",
       " ⋮                              ⋱                                 \n",
       " CartesianIndex{3}((78, 3, 4))  …  CartesianIndex{3}((78, 107, 4))\n",
       " CartesianIndex{3}((79, 3, 4))     CartesianIndex{3}((79, 107, 4))\n",
       " CartesianIndex{3}((80, 3, 4))     CartesianIndex{3}((80, 107, 4))\n",
       " CartesianIndex{3}((81, 3, 4))     CartesianIndex{3}((81, 107, 4))\n",
       " CartesianIndex{3}((82, 3, 4))     CartesianIndex{3}((82, 107, 4))\n",
       " CartesianIndex{3}((83, 3, 4))  …  CartesianIndex{3}((83, 107, 4))\n",
       " CartesianIndex{3}((84, 3, 4))     CartesianIndex{3}((84, 107, 4))\n",
       " CartesianIndex{3}((85, 3, 4))     CartesianIndex{3}((85, 107, 4))\n",
       " CartesianIndex{3}((86, 3, 4))     CartesianIndex{3}((86, 107, 4))\n",
       " CartesianIndex{3}((87, 3, 4))     CartesianIndex{3}((87, 107, 4))\n",
       " CartesianIndex{3}((88, 3, 4))  …  CartesianIndex{3}((88, 107, 4))\n",
       " CartesianIndex{3}((89, 3, 4))     CartesianIndex{3}((89, 107, 4))\n",
       "\n",
       "[:, :, 3] =\n",
       " CartesianIndex{3}((3, 3, 5))   …  CartesianIndex{3}((3, 107, 5)) \n",
       " CartesianIndex{3}((4, 3, 5))      CartesianIndex{3}((4, 107, 5)) \n",
       " CartesianIndex{3}((5, 3, 5))      CartesianIndex{3}((5, 107, 5)) \n",
       " CartesianIndex{3}((6, 3, 5))      CartesianIndex{3}((6, 107, 5)) \n",
       " CartesianIndex{3}((7, 3, 5))      CartesianIndex{3}((7, 107, 5)) \n",
       " CartesianIndex{3}((8, 3, 5))   …  CartesianIndex{3}((8, 107, 5)) \n",
       " CartesianIndex{3}((9, 3, 5))      CartesianIndex{3}((9, 107, 5)) \n",
       " CartesianIndex{3}((10, 3, 5))     CartesianIndex{3}((10, 107, 5))\n",
       " CartesianIndex{3}((11, 3, 5))     CartesianIndex{3}((11, 107, 5))\n",
       " CartesianIndex{3}((12, 3, 5))     CartesianIndex{3}((12, 107, 5))\n",
       " CartesianIndex{3}((13, 3, 5))  …  CartesianIndex{3}((13, 107, 5))\n",
       " CartesianIndex{3}((14, 3, 5))     CartesianIndex{3}((14, 107, 5))\n",
       " CartesianIndex{3}((15, 3, 5))     CartesianIndex{3}((15, 107, 5))\n",
       " ⋮                              ⋱                                 \n",
       " CartesianIndex{3}((78, 3, 5))  …  CartesianIndex{3}((78, 107, 5))\n",
       " CartesianIndex{3}((79, 3, 5))     CartesianIndex{3}((79, 107, 5))\n",
       " CartesianIndex{3}((80, 3, 5))     CartesianIndex{3}((80, 107, 5))\n",
       " CartesianIndex{3}((81, 3, 5))     CartesianIndex{3}((81, 107, 5))\n",
       " CartesianIndex{3}((82, 3, 5))     CartesianIndex{3}((82, 107, 5))\n",
       " CartesianIndex{3}((83, 3, 5))  …  CartesianIndex{3}((83, 107, 5))\n",
       " CartesianIndex{3}((84, 3, 5))     CartesianIndex{3}((84, 107, 5))\n",
       " CartesianIndex{3}((85, 3, 5))     CartesianIndex{3}((85, 107, 5))\n",
       " CartesianIndex{3}((86, 3, 5))     CartesianIndex{3}((86, 107, 5))\n",
       " CartesianIndex{3}((87, 3, 5))     CartesianIndex{3}((87, 107, 5))\n",
       " CartesianIndex{3}((88, 3, 5))  …  CartesianIndex{3}((88, 107, 5))\n",
       " CartesianIndex{3}((89, 3, 5))     CartesianIndex{3}((89, 107, 5))\n",
       "\n",
       "...\n",
       "\n",
       "[:, :, 85] =\n",
       " CartesianIndex{3}((3, 3, 87))   …  CartesianIndex{3}((3, 107, 87)) \n",
       " CartesianIndex{3}((4, 3, 87))      CartesianIndex{3}((4, 107, 87)) \n",
       " CartesianIndex{3}((5, 3, 87))      CartesianIndex{3}((5, 107, 87)) \n",
       " CartesianIndex{3}((6, 3, 87))      CartesianIndex{3}((6, 107, 87)) \n",
       " CartesianIndex{3}((7, 3, 87))      CartesianIndex{3}((7, 107, 87)) \n",
       " CartesianIndex{3}((8, 3, 87))   …  CartesianIndex{3}((8, 107, 87)) \n",
       " CartesianIndex{3}((9, 3, 87))      CartesianIndex{3}((9, 107, 87)) \n",
       " CartesianIndex{3}((10, 3, 87))     CartesianIndex{3}((10, 107, 87))\n",
       " CartesianIndex{3}((11, 3, 87))     CartesianIndex{3}((11, 107, 87))\n",
       " CartesianIndex{3}((12, 3, 87))     CartesianIndex{3}((12, 107, 87))\n",
       " CartesianIndex{3}((13, 3, 87))  …  CartesianIndex{3}((13, 107, 87))\n",
       " CartesianIndex{3}((14, 3, 87))     CartesianIndex{3}((14, 107, 87))\n",
       " CartesianIndex{3}((15, 3, 87))     CartesianIndex{3}((15, 107, 87))\n",
       " ⋮                               ⋱                                  \n",
       " CartesianIndex{3}((78, 3, 87))  …  CartesianIndex{3}((78, 107, 87))\n",
       " CartesianIndex{3}((79, 3, 87))     CartesianIndex{3}((79, 107, 87))\n",
       " CartesianIndex{3}((80, 3, 87))     CartesianIndex{3}((80, 107, 87))\n",
       " CartesianIndex{3}((81, 3, 87))     CartesianIndex{3}((81, 107, 87))\n",
       " CartesianIndex{3}((82, 3, 87))     CartesianIndex{3}((82, 107, 87))\n",
       " CartesianIndex{3}((83, 3, 87))  …  CartesianIndex{3}((83, 107, 87))\n",
       " CartesianIndex{3}((84, 3, 87))     CartesianIndex{3}((84, 107, 87))\n",
       " CartesianIndex{3}((85, 3, 87))     CartesianIndex{3}((85, 107, 87))\n",
       " CartesianIndex{3}((86, 3, 87))     CartesianIndex{3}((86, 107, 87))\n",
       " CartesianIndex{3}((87, 3, 87))     CartesianIndex{3}((87, 107, 87))\n",
       " CartesianIndex{3}((88, 3, 87))  …  CartesianIndex{3}((88, 107, 87))\n",
       " CartesianIndex{3}((89, 3, 87))     CartesianIndex{3}((89, 107, 87))\n",
       "\n",
       "[:, :, 86] =\n",
       " CartesianIndex{3}((3, 3, 88))   …  CartesianIndex{3}((3, 107, 88)) \n",
       " CartesianIndex{3}((4, 3, 88))      CartesianIndex{3}((4, 107, 88)) \n",
       " CartesianIndex{3}((5, 3, 88))      CartesianIndex{3}((5, 107, 88)) \n",
       " CartesianIndex{3}((6, 3, 88))      CartesianIndex{3}((6, 107, 88)) \n",
       " CartesianIndex{3}((7, 3, 88))      CartesianIndex{3}((7, 107, 88)) \n",
       " CartesianIndex{3}((8, 3, 88))   …  CartesianIndex{3}((8, 107, 88)) \n",
       " CartesianIndex{3}((9, 3, 88))      CartesianIndex{3}((9, 107, 88)) \n",
       " CartesianIndex{3}((10, 3, 88))     CartesianIndex{3}((10, 107, 88))\n",
       " CartesianIndex{3}((11, 3, 88))     CartesianIndex{3}((11, 107, 88))\n",
       " CartesianIndex{3}((12, 3, 88))     CartesianIndex{3}((12, 107, 88))\n",
       " CartesianIndex{3}((13, 3, 88))  …  CartesianIndex{3}((13, 107, 88))\n",
       " CartesianIndex{3}((14, 3, 88))     CartesianIndex{3}((14, 107, 88))\n",
       " CartesianIndex{3}((15, 3, 88))     CartesianIndex{3}((15, 107, 88))\n",
       " ⋮                               ⋱                                  \n",
       " CartesianIndex{3}((78, 3, 88))  …  CartesianIndex{3}((78, 107, 88))\n",
       " CartesianIndex{3}((79, 3, 88))     CartesianIndex{3}((79, 107, 88))\n",
       " CartesianIndex{3}((80, 3, 88))     CartesianIndex{3}((80, 107, 88))\n",
       " CartesianIndex{3}((81, 3, 88))     CartesianIndex{3}((81, 107, 88))\n",
       " CartesianIndex{3}((82, 3, 88))     CartesianIndex{3}((82, 107, 88))\n",
       " CartesianIndex{3}((83, 3, 88))  …  CartesianIndex{3}((83, 107, 88))\n",
       " CartesianIndex{3}((84, 3, 88))     CartesianIndex{3}((84, 107, 88))\n",
       " CartesianIndex{3}((85, 3, 88))     CartesianIndex{3}((85, 107, 88))\n",
       " CartesianIndex{3}((86, 3, 88))     CartesianIndex{3}((86, 107, 88))\n",
       " CartesianIndex{3}((87, 3, 88))     CartesianIndex{3}((87, 107, 88))\n",
       " CartesianIndex{3}((88, 3, 88))  …  CartesianIndex{3}((88, 107, 88))\n",
       " CartesianIndex{3}((89, 3, 88))     CartesianIndex{3}((89, 107, 88))\n",
       "\n",
       "[:, :, 87] =\n",
       " CartesianIndex{3}((3, 3, 89))   …  CartesianIndex{3}((3, 107, 89)) \n",
       " CartesianIndex{3}((4, 3, 89))      CartesianIndex{3}((4, 107, 89)) \n",
       " CartesianIndex{3}((5, 3, 89))      CartesianIndex{3}((5, 107, 89)) \n",
       " CartesianIndex{3}((6, 3, 89))      CartesianIndex{3}((6, 107, 89)) \n",
       " CartesianIndex{3}((7, 3, 89))      CartesianIndex{3}((7, 107, 89)) \n",
       " CartesianIndex{3}((8, 3, 89))   …  CartesianIndex{3}((8, 107, 89)) \n",
       " CartesianIndex{3}((9, 3, 89))      CartesianIndex{3}((9, 107, 89)) \n",
       " CartesianIndex{3}((10, 3, 89))     CartesianIndex{3}((10, 107, 89))\n",
       " CartesianIndex{3}((11, 3, 89))     CartesianIndex{3}((11, 107, 89))\n",
       " CartesianIndex{3}((12, 3, 89))     CartesianIndex{3}((12, 107, 89))\n",
       " CartesianIndex{3}((13, 3, 89))  …  CartesianIndex{3}((13, 107, 89))\n",
       " CartesianIndex{3}((14, 3, 89))     CartesianIndex{3}((14, 107, 89))\n",
       " CartesianIndex{3}((15, 3, 89))     CartesianIndex{3}((15, 107, 89))\n",
       " ⋮                               ⋱                                  \n",
       " CartesianIndex{3}((78, 3, 89))  …  CartesianIndex{3}((78, 107, 89))\n",
       " CartesianIndex{3}((79, 3, 89))     CartesianIndex{3}((79, 107, 89))\n",
       " CartesianIndex{3}((80, 3, 89))     CartesianIndex{3}((80, 107, 89))\n",
       " CartesianIndex{3}((81, 3, 89))     CartesianIndex{3}((81, 107, 89))\n",
       " CartesianIndex{3}((82, 3, 89))     CartesianIndex{3}((82, 107, 89))\n",
       " CartesianIndex{3}((83, 3, 89))  …  CartesianIndex{3}((83, 107, 89))\n",
       " CartesianIndex{3}((84, 3, 89))     CartesianIndex{3}((84, 107, 89))\n",
       " CartesianIndex{3}((85, 3, 89))     CartesianIndex{3}((85, 107, 89))\n",
       " CartesianIndex{3}((86, 3, 89))     CartesianIndex{3}((86, 107, 89))\n",
       " CartesianIndex{3}((87, 3, 89))     CartesianIndex{3}((87, 107, 89))\n",
       " CartesianIndex{3}((88, 3, 89))  …  CartesianIndex{3}((88, 107, 89))\n",
       " CartesianIndex{3}((89, 3, 89))     CartesianIndex{3}((89, 107, 89))"
      ]
     },
     "execution_count": 13,
     "metadata": {},
     "output_type": "execute_result"
    }
   ],
   "source": [
    "(CartesianIndex(SHAPE)-2), CartesianIndex((3,3,3))\n",
    "rng = collect(CartesianRange(CartesianIndex((3,3,3)),(CartesianIndex(SHAPE)-2)))"
   ]
  },
  {
   "cell_type": "code",
   "execution_count": null,
   "metadata": {},
   "outputs": [],
   "source": [
    "q = quantile(reshape(Gclear,SIZE), 0.7)\n",
    "msk = Gclear.> q # +quantile mask\n",
    "\n",
    "F = falses(SHAPE) # No bounds mask\n",
    "for i in CartesianRange(CartesianIndex((3,3,3)),(CartesianIndex(SHAPE)-2)) \n",
    "    F[i]= true\n",
    "end\n",
    "\n",
    "rng_pos_o = collect(CartesianRange(CartesianIndex((1,1,1)),(CartesianIndex(SHAPE))))\n",
    "rng_pos = rng_pos_o[msk] \n",
    "@time res1 = [(cnt,mn_cor(ni,cnt)) for cnt in sample(rng_pos,4000)]\n",
    "rng_neg = rng_pos_o[.!msk .& F]\n",
    "@time res2 = [(cnt,mn_cor(ni,cnt)) for cnt in sample(rng_neg,4000)]\n",
    "filter!(x->!isnan(x[2]),res1)\n",
    "filter!(x->!isnan(x[2]),res2)\n",
    "# sort!(res, by=x->x[2])\n",
    "histogram((x->x[2]).(res1),label =\"quantile +\", alpha=.8, fillalpha=.8, bins = 64, title = \"Local correlation\")\n",
    "histogram!((x->x[2]).(res2),label =\"quantile -\", alpha=.8, fillalpha=.8, bins = 64)\n",
    "# mean((x->x[2]).(res))"
   ]
  },
  {
   "cell_type": "code",
   "execution_count": null,
   "metadata": {},
   "outputs": [],
   "source": [
    "function zst(q)\n",
    "    msk = Gclear.> q # +quantile mask\n",
    "    rng_pos_o = collect(CartesianRange(CartesianIndex((1,1,1)),(CartesianIndex(SHAPE))))\n",
    "    rng_pos = rng_pos_o[msk] \n",
    "    res1 = [(cnt,mn_cor(ni,cnt)) for cnt in sample(rng_pos,2000)]\n",
    "    rng_neg = rng_pos_o[.!msk .& F]\n",
    "    res2 = [(cnt,mn_cor(ni,cnt)) for cnt in sample(rng_neg,2000)]\n",
    "    pvalue(UnequalVarianceTTest(res1,res2))\n",
    "end"
   ]
  },
  {
   "cell_type": "code",
   "execution_count": null,
   "metadata": {},
   "outputs": [],
   "source": []
  },
  {
   "cell_type": "code",
   "execution_count": 2,
   "metadata": {},
   "outputs": [
    {
     "ename": "LoadError",
     "evalue": "\u001b[91mUndefVarError: res1 not defined\u001b[39m",
     "output_type": "error",
     "traceback": [
      "\u001b[91mUndefVarError: res1 not defined\u001b[39m",
      "",
      "Stacktrace:",
      " [1] \u001b[1minclude_string\u001b[22m\u001b[22m\u001b[1m(\u001b[22m\u001b[22m::String, ::String\u001b[1m)\u001b[22m\u001b[22m at \u001b[1m./loading.jl:522\u001b[22m\u001b[22m"
     ]
    }
   ],
   "source": [
    "filter!(x->!isnan(x[2]),res1)\n",
    "filter!(x->!isnan(x[2]),res2)\n",
    "# sort!(res, by=x->x[2])\n",
    "histogram((x->x[2]).(res2),label =\"quantile -\", alpha=.8, fillalpha=.8, bins = 64, title = \"Local correlation\")\n",
    "histogram!((x->x[2]).(res1),label =\"quantile +\", alpha=.8, fillalpha=.8, bins = 64)\n",
    "# mean((x->x[2]).(res))"
   ]
  },
  {
   "cell_type": "code",
   "execution_count": null,
   "metadata": {},
   "outputs": [],
   "source": []
  },
  {
   "cell_type": "code",
   "execution_count": 12,
   "metadata": {},
   "outputs": [
    {
     "name": "stdout",
     "output_type": "stream",
     "text": [
      " 47.878894 seconds (142.07 M allocations: 5.290 GiB, 1.61% gc time)\n"
     ]
    },
    {
     "data": {
      "text/plain": [
       "0.65054184f0"
      ]
     },
     "execution_count": 12,
     "metadata": {},
     "output_type": "execute_result"
    }
   ],
   "source": [
    "rng = collect(CartesianRange(CartesianIndex((3,3,3)),(CartesianIndex(SHAPE)-2)))\n",
    "@time res = [(cnt,mn_cor(ni,cnt)) for cnt in sample(rng,4000)]\n",
    "filter!(x->!isnan(x[2]),res)\n",
    "sort!(res, by=x->x[2])\n",
    "# plot((x->x[2]).(res))\n",
    "mean((x->x[2]).(res))"
   ]
  },
  {
   "cell_type": "code",
   "execution_count": 71,
   "metadata": {},
   "outputs": [
    {
     "name": "stdout",
     "output_type": "stream",
     "text": [
      "Plot{Plots.PlotlyBackend() n=27}"
     ]
    }
   ],
   "source": [
    "# X = linspace(0,8π,1000)\n",
    "# Y = randn(1000)/2. + cos.(X)/3\n",
    "\n",
    "# Y = ni[28,28,57,:]\n",
    "# Y2 = ni[26,26,55,:]\n",
    "X = 1:3600\n",
    "cent = CartesianIndex(45, 25, 31)\n",
    "TS = reshape([ewma(ni[coord.I...,:], 0.1)[X] for coord in δ(cent)], (27))\n",
    "# plot([ewma(Y2)[X],ewma(Y)[X]],labels=[\"[27,27,57,:]\",\"[28,28,57,:]\"])\n",
    "p = plot(X,TS,labels=[repr(x.I) for x in δ(cent)])\n",
    "m = [cor(t1,t2) for t1 in TS, t2 in TS ]\n",
    "# mean(m)\n",
    "\n",
    "# plot!(X,label=)\n",
    "show(p)"
   ]
  },
  {
   "cell_type": "code",
   "execution_count": 170,
   "metadata": {
    "collapsed": true
   },
   "outputs": [
    {
     "data": {
      "text/html": [
       "<script src=\"file:///home/ashedko/.julia/v0.6/Plots/src/backends/../../deps/plotly-latest.min.js\"></script>    <div id=\"912cdd22-a2bb-4d4c-af7d-fd1134dbeb9f\" style=\"width:600px;height:600px;\"></div>\n",
       "    <script>\n",
       "    PLOT = document.getElementById('912cdd22-a2bb-4d4c-af7d-fd1134dbeb9f');\n",
       "    Plotly.plot(PLOT, [{\"xaxis\":\"x\",\"colorbar\":{\"title\":\"\"},\"colorscale\":[[0.0,\"rgba(0, 0, 4, 1.000)\"],[0.034482758620689655,\"rgba(4, 3, 20, 1.000)\"],[0.06896551724137931,\"rgba(13, 8, 41, 1.000)\"],[0.10344827586206896,\"rgba(24, 12, 60, 1.000)\"],[0.13793103448275862,\"rgba(38, 12, 81, 1.000)\"],[0.1724137931034483,\"rgba(54, 9, 97, 1.000)\"],[0.20689655172413793,\"rgba(69, 10, 105, 1.000)\"],[0.2413793103448276,\"rgba(84, 15, 109, 1.000)\"],[0.27586206896551724,\"rgba(97, 19, 110, 1.000)\"],[0.3103448275862069,\"rgba(111, 25, 110, 1.000)\"],[0.3448275862068966,\"rgba(125, 30, 109, 1.000)\"],[0.3793103448275862,\"rgba(140, 35, 105, 1.000)\"],[0.41379310344827586,\"rgba(154, 40, 101, 1.000)\"],[0.4482758620689655,\"rgba(166, 45, 96, 1.000)\"],[0.4827586206896552,\"rgba(180, 51, 89, 1.000)\"],[0.5172413793103449,\"rgba(193, 58, 80, 1.000)\"],[0.5517241379310345,\"rgba(206, 67, 71, 1.000)\"],[0.5862068965517241,\"rgba(216, 76, 62, 1.000)\"],[0.6206896551724138,\"rgba(226, 87, 52, 1.000)\"],[0.6551724137931034,\"rgba(235, 100, 41, 1.000)\"],[0.6896551724137931,\"rgba(241, 115, 29, 1.000)\"],[0.7241379310344828,\"rgba(247, 130, 18, 1.000)\"],[0.7586206896551724,\"rgba(250, 144, 8, 1.000)\"],[0.7931034482758621,\"rgba(252, 161, 8, 1.000)\"],[0.8275862068965517,\"rgba(252, 178, 22, 1.000)\"],[0.8620689655172413,\"rgba(250, 196, 42, 1.000)\"],[0.896551724137931,\"rgba(246, 213, 67, 1.000)\"],[0.9310344827586207,\"rgba(243, 229, 93, 1.000)\"],[0.9655172413793104,\"rgba(242, 244, 130, 1.000)\"],[1.0,\"rgba(252, 255, 164, 1.000)\"]],\"yaxis\":\"y\",\"showscale\":true,\"x\":[1,2,3,4,5,6,7,8,9,10,11,12,13,14,15,16,17,18,19,20,21,22,23,24,25,26,27],\"showlegend\":false,\"name\":\"y1\",\"z\":[[1.0,0.9414498805999756,0.8495993614196777,0.9614893794059753,0.9389510154724121,0.8415014147758484,0.8772470355033875,0.8587353229522705,0.7611849308013916,0.9536207318305969,0.9306460618972778,0.8600206971168518,0.9281671643257141,0.9298198223114014,0.8509188890457153,0.8443524837493896,0.869973361492157,0.7814409136772156,0.8471199870109558,0.8126028180122375,0.7703819274902344,0.8263921737670898,0.8054553866386414,0.7620989680290222,0.768032431602478,0.7547475099563599,0.7306046485900879],[0.9414498805999756,1.0,0.9430106282234192,0.8795043230056763,0.9513026475906372,0.9049748778343201,0.7790676951408386,0.8336593508720398,0.7912910580635071,0.8658794164657593,0.9292020201683044,0.8937352299690247,0.822755753993988,0.8942093849182129,0.8550795912742615,0.7276195883750916,0.8086726069450378,0.7626891732215881,0.7331725358963013,0.7498907446861267,0.7338870763778687,0.7002823352813721,0.7175384759902954,0.6998116374015808,0.638896644115448,0.653451681137085,0.6565603017807007],[0.8495993614196777,0.9430106282234192,1.0,0.8069559931755066,0.9198406934738159,0.9616947770118713,0.7358869314193726,0.8306771516799927,0.8647909164428711,0.7589814066886902,0.8665640354156494,0.9201101660728455,0.7444627285003662,0.8534426689147949,0.8993147015571594,0.6834793090820312,0.8008859753608704,0.8319515585899353,0.6460045576095581,0.6992434859275818,0.7505207657814026,0.6341961026191711,0.6863312125205994,0.730290949344635,0.6082293391227722,0.6549715399742126,0.7103025317192078],[0.9614893794059753,0.8795043230056763,0.8069559931755066,1.0,0.9462955594062805,0.8475902676582336,0.9659432768821716,0.926226794719696,0.8102448582649231,0.9190400838851929,0.8713776469230652,0.8212616443634033,0.9528665542602539,0.9314092397689819,0.8587409853935242,0.9291303157806396,0.9316771030426025,0.8365710377693176,0.8200051784515381,0.7769914865493774,0.7553198337554932,0.8451324105262756,0.8147993087768555,0.7844228744506836,0.8308501839637756,0.8097348213195801,0.7836052775382996],[0.9389510154724121,0.9513026475906372,0.9198406934738159,0.9462955594062805,1.0,0.9474393129348755,0.9009907245635986,0.9494805335998535,0.8920947313308716,0.8528028726577759,0.8825197219848633,0.8673693537712097,0.8680270910263062,0.919786810874939,0.8915143013000488,0.8335800170898438,0.9046403169631958,0.8583920001983643,0.7203570008277893,0.7191442847251892,0.7266013622283936,0.7314499616622925,0.7380719780921936,0.7393208146095276,0.7140044569969177,0.7280809879302979,0.7367506623268127],[0.8415014147758484,0.9049748778343201,0.9616947770118713,0.8475902676582336,0.9474393129348755,1.0,0.8143643140792847,0.9153347015380859,0.9511085152626038,0.7471830248832703,0.8299623727798462,0.8899047374725342,0.7690957188606262,0.8697295784950256,0.9249643087387085,0.7466055750846863,0.8643444776535034,0.9065379500389099,0.6361550092697144,0.676484227180481,0.7382869124412537,0.6512072086334229,0.6979652643203735,0.7572909593582153,0.6514149904251099,0.7037217617034912,0.7664832472801208],[0.8772470355033875,0.7790676951408386,0.7358869314193726,0.9659432768821716,0.9009907245635986,0.8143643140792847,1.0,0.9466657638549805,0.8253457546234131,0.8317723274230957,0.7697443962097168,0.7488784790039062,0.9123271703720093,0.8777468204498291,0.8226894736289978,0.9521235823631287,0.9413738250732422,0.8498591780662537,0.7471686005592346,0.7007237672805786,0.704662024974823,0.8061686754226685,0.7724286317825317,0.7629019021987915,0.8394569158554077,0.8159976005554199,0.7947035431861877],[0.8587353229522705,0.8336593508720398,0.8306771516799927,0.926226794719696,0.9494805335998535,0.9153347015380859,0.9466657638549805,1.0,0.9381077289581299,0.7664188146591187,0.765973687171936,0.778262734413147,0.8317959308624268,0.8624953627586365,0.856514573097229,0.8644704818725586,0.9270984530448914,0.8953361511230469,0.649725615978241,0.633753776550293,0.6662883758544922,0.6970978379249573,0.6943684220314026,0.7197601199150085,0.729840874671936,0.7427440881729126,0.7626587748527527],[0.7611849308013916,0.7912910580635071,0.8647909164428711,0.8102448582649231,0.8920947313308716,0.9511085152626038,0.8253457546234131,0.9381077289581299,1.0,0.6516599655151367,0.7038452625274658,0.780906081199646,0.7073201537132263,0.7916524410247803,0.8673779964447021,0.7394689321517944,0.8578805923461914,0.9234826564788818,0.5443704724311829,0.5648924708366394,0.6456902027130127,0.585395336151123,0.6214041709899902,0.7017655968666077,0.6256874799728394,0.6792707443237305,0.7590643167495728],[0.9536207318305969,0.8658794164657593,0.7589814066886902,0.9190400838851929,0.8528028726577759,0.7471830248832703,0.8317723274230957,0.7664188146591187,0.6516599655151367,1.0,0.9521791338920593,0.8600211143493652,0.9646174311637878,0.9431825280189514,0.8398591876029968,0.8626315593719482,0.8585612773895264,0.7468971014022827,0.9552192687988281,0.9149000644683838,0.8444547653198242,0.9274493455886841,0.9015226364135742,0.8300322890281677,0.8470779657363892,0.8252254128456116,0.7693276405334473],[0.9306460618972778,0.9292020201683044,0.8665640354156494,0.8713776469230652,0.8825197219848633,0.8299623727798462,0.7697443962097168,0.765973687171936,0.7038452625274658,0.9521791338920593,1.0,0.950423002243042,0.903850257396698,0.9538652896881104,0.9003334045410156,0.7878608107566833,0.8398342132568359,0.7803559303283691,0.9006026387214661,0.9239801168441772,0.8897884488105774,0.8605647087097168,0.8839122653007507,0.8472646474838257,0.7727214097976685,0.7889688611030579,0.7678360939025879],[0.8600206971168518,0.8937352299690247,0.9201101660728455,0.8212616443634033,0.8673693537712097,0.8899047374725342,0.7488784790039062,0.778262734413147,0.780906081199646,0.8600211143493652,0.950423002243042,1.0,0.8418294191360474,0.9304407835006714,0.9603384137153625,0.7600646018981934,0.8449125289916992,0.8591515421867371,0.8245142698287964,0.893012285232544,0.9324296116828918,0.805686354637146,0.8681628108024597,0.8981818556785583,0.753139853477478,0.8028958439826965,0.8367508053779602],[0.9281671643257141,0.822755753993988,0.7444627285003662,0.9528665542602539,0.8680270910263062,0.7690957188606262,0.9123271703720093,0.8317959308624268,0.7073201537132263,0.9646174311637878,0.903850257396698,0.8418294191360474,1.0,0.9599546790122986,0.8672901391983032,0.9555258750915527,0.9330490231513977,0.8177003264427185,0.9296379685401917,0.8890939354896545,0.8456664681434631,0.9562113285064697,0.9259675741195679,0.8691851496696472,0.9285559058189392,0.9024844169616699,0.8443203568458557],[0.9298198223114014,0.8942093849182129,0.8534426689147949,0.9314092397689819,0.919786810874939,0.8697295784950256,0.8777468204498291,0.8624953627586365,0.7916524410247803,0.9431825280189514,0.9538652896881104,0.9304407835006714,0.9599546790122986,1.0,0.9500903487205505,0.9058721661567688,0.9466290473937988,0.8855804204940796,0.8976979851722717,0.906849205493927,0.8927950859069824,0.9111967086791992,0.9289385080337524,0.9066541790962219,0.8765549063682556,0.8965845108032227,0.8754475712776184],[0.8509188890457153,0.8550795912742615,0.8993147015571594,0.8587409853935242,0.8915143013000488,0.9249643087387085,0.8226894736289978,0.856514573097229,0.8673779964447021,0.8398591876029968,0.9003334045410156,0.9603384137153625,0.8672901391983032,0.9500903487205505,1.0,0.8342447876930237,0.9219074249267578,0.9528241753578186,0.8043903708457947,0.8555306792259216,0.9097743034362793,0.8238025903701782,0.8839872479438782,0.9341492056846619,0.8110936880111694,0.8744432926177979,0.9210363626480103],[0.8443524837493896,0.7276195883750916,0.6834793090820312,0.9291303157806396,0.8335800170898438,0.7466055750846863,0.9521235823631287,0.8644704818725586,0.7394689321517944,0.8626315593719482,0.7878608107566833,0.7600646018981934,0.9555258750915527,0.9058721661567688,0.8342447876930237,1.0,0.9589681029319763,0.847726583480835,0.830702543258667,0.7902429103851318,0.7784264087677002,0.9073646068572998,0.8752170205116272,0.8407596349716187,0.9493871331214905,0.9204386472702026,0.8651311993598938],[0.869973361492157,0.8086726069450378,0.8008859753608704,0.9316771030426025,0.9046403169631958,0.8643444776535034,0.9413738250732422,0.9270984530448914,0.8578805923461914,0.8585612773895264,0.8398342132568359,0.8449125289916992,0.9330490231513977,0.9466290473937988,0.9219074249267578,0.9589681029319763,1.0,0.9378307461738586,0.8076485395431519,0.7985105514526367,0.8134689331054688,0.8685067296028137,0.8739564418792725,0.8752865791320801,0.9026047587394714,0.9203814268112183,0.9053977727890015],[0.7814409136772156,0.7626891732215881,0.8319515585899353,0.8365710377693176,0.8583920001983643,0.9065379500389099,0.8498591780662537,0.8953361511230469,0.9234826564788818,0.7468971014022827,0.7803559303283691,0.8591515421867371,0.8177003264427185,0.8855804204940796,0.9528241753578186,0.847726583480835,0.9378307461738586,1.0,0.7064699530601501,0.7391968369483948,0.8151788711547852,0.7611739635467529,0.8127300143241882,0.8848707675933838,0.799900472164154,0.8711571097373962,0.9344396591186523],[0.8471199870109558,0.7331725358963013,0.6460045576095581,0.8200051784515381,0.7203570008277893,0.6361550092697144,0.7471686005592346,0.649725615978241,0.5443704724311829,0.9552192687988281,0.9006026387214661,0.8245142698287964,0.9296379685401917,0.8976979851722717,0.8043903708457947,0.830702543258667,0.8076485395431519,0.7064699530601501,1.0,0.9662483334541321,0.8950223326683044,0.9706400632858276,0.9530571103096008,0.879526674747467,0.8876903653144836,0.8705937266349792,0.8034106492996216],[0.8126028180122375,0.7498907446861267,0.6992434859275818,0.7769914865493774,0.7191442847251892,0.676484227180481,0.7007237672805786,0.633753776550293,0.5648924708366394,0.9149000644683838,0.9239801168441772,0.893012285232544,0.8890939354896545,0.906849205493927,0.8555306792259216,0.7902429103851318,0.7985105514526367,0.7391968369483948,0.9662483334541321,1.0,0.9617517590522766,0.9395664930343628,0.9686521887779236,0.9266230463981628,0.8582367897033691,0.8762443661689758,0.8368113040924072],[0.7703819274902344,0.7338870763778687,0.7505207657814026,0.7553198337554932,0.7266013622283936,0.7382869124412537,0.704662024974823,0.6662883758544922,0.6456902027130127,0.8444547653198242,0.8897884488105774,0.9324296116828918,0.8456664681434631,0.8927950859069824,0.9097743034362793,0.7784264087677002,0.8134689331054688,0.8151788711547852,0.8950223326683044,0.9617517590522766,1.0,0.8891087770462036,0.9498036503791809,0.9692850708961487,0.8385375738143921,0.8851941823959351,0.8972519040107727],[0.8263921737670898,0.7002823352813721,0.6341961026191711,0.8451324105262756,0.7314499616622925,0.6512072086334229,0.8061686754226685,0.6970978379249573,0.585395336151123,0.9274493455886841,0.8605647087097168,0.805686354637146,0.9562113285064697,0.9111967086791992,0.8238025903701782,0.9073646068572998,0.8685067296028137,0.7611739635467529,0.9706400632858276,0.9395664930343628,0.8891087770462036,1.0,0.973724901676178,0.9069114923477173,0.9608149528503418,0.9371957778930664,0.8620367050170898],[0.8054553866386414,0.7175384759902954,0.6863312125205994,0.8147993087768555,0.7380719780921936,0.6979652643203735,0.7724286317825317,0.6943684220314026,0.6214041709899902,0.9015226364135742,0.8839122653007507,0.8681628108024597,0.9259675741195679,0.9289385080337524,0.8839872479438782,0.8752170205116272,0.8739564418792725,0.8127300143241882,0.9530571103096008,0.9686521887779236,0.9498036503791809,0.973724901676178,1.0,0.9635735154151917,0.937861442565918,0.9567050933837891,0.9143152832984924],[0.7620989680290222,0.6998116374015808,0.730290949344635,0.7844228744506836,0.7393208146095276,0.7572909593582153,0.7629019021987915,0.7197601199150085,0.7017655968666077,0.8300322890281677,0.8472646474838257,0.8981818556785583,0.8691851496696472,0.9066541790962219,0.9341492056846619,0.8407596349716187,0.8752865791320801,0.8848707675933838,0.879526674747467,0.9266230463981628,0.9692850708961487,0.9069114923477173,0.9635735154151917,1.0,0.8910711407661438,0.9476150870323181,0.9666599035263062],[0.768032431602478,0.638896644115448,0.6082293391227722,0.8308501839637756,0.7140044569969177,0.6514149904251099,0.8394569158554077,0.729840874671936,0.6256874799728394,0.8470779657363892,0.7727214097976685,0.753139853477478,0.9285559058189392,0.8765549063682556,0.8110936880111694,0.9493871331214905,0.9026047587394714,0.799900472164154,0.8876903653144836,0.8582367897033691,0.8385375738143921,0.9608149528503418,0.937861442565918,0.8910711407661438,1.0,0.9684597253799438,0.8935050368309021],[0.7547475099563599,0.653451681137085,0.6549715399742126,0.8097348213195801,0.7280809879302979,0.7037217617034912,0.8159976005554199,0.7427440881729126,0.6792707443237305,0.8252254128456116,0.7889688611030579,0.8028958439826965,0.9024844169616699,0.8965845108032227,0.8744432926177979,0.9204386472702026,0.9203814268112183,0.8711571097373962,0.8705937266349792,0.8762443661689758,0.8851941823959351,0.9371957778930664,0.9567050933837891,0.9476150870323181,0.9684597253799438,1.0,0.95988529920578],[0.7306046485900879,0.6565603017807007,0.7103025317192078,0.7836052775382996,0.7367506623268127,0.7664832472801208,0.7947035431861877,0.7626587748527527,0.7590643167495728,0.7693276405334473,0.7678360939025879,0.8367508053779602,0.8443203568458557,0.8754475712776184,0.9210363626480103,0.8651311993598938,0.9053977727890015,0.9344396591186523,0.8034106492996216,0.8368113040924072,0.8972519040107727,0.8620367050170898,0.9143152832984924,0.9666599035263062,0.8935050368309021,0.95988529920578,1.0]],\"y\":[1,2,3,4,5,6,7,8,9,10,11,12,13,14,15,16,17,18,19,20,21,22,23,24,25,26,27],\"type\":\"heatmap\"}], {\"showlegend\":true,\"xaxis\":{\"showticklabels\":true,\"gridwidth\":0.5,\"tickvals\":[5.0,10.0,15.0,20.0,25.0],\"visible\":true,\"ticks\":\"inside\",\"range\":[0.5,27.5],\"domain\":[0.03619130941965587,0.9934383202099738],\"tickmode\":\"array\",\"linecolor\":\"rgba(0, 0, 0, 1.000)\",\"showgrid\":false,\"title\":\"\",\"mirror\":true,\"tickangle\":0,\"showline\":true,\"gridcolor\":\"rgba(0, 0, 0, 0.100)\",\"titlefont\":{\"color\":\"rgba(0, 0, 0, 1.000)\",\"family\":\"sans-serif\",\"size\":15},\"tickcolor\":\"rgb(0, 0, 0)\",\"ticktext\":[\"(45, 25, 30)\",\"(44, 24, 31)\",\"(46, 25, 31)\",\"(45, 24, 32)\",\"(44, 26, 32)\"],\"zeroline\":false,\"type\":\"-\",\"tickfont\":{\"color\":\"rgba(0, 0, 0, 1.000)\",\"family\":\"sans-serif\",\"size\":11},\"zerolinecolor\":\"rgba(0, 0, 0, 1.000)\",\"anchor\":\"y\"},\"paper_bgcolor\":\"rgba(255, 255, 255, 1.000)\",\"annotations\":[],\"height\":600,\"margin\":{\"l\":0,\"b\":20,\"r\":0,\"t\":20},\"plot_bgcolor\":\"rgba(255, 255, 255, 1.000)\",\"yaxis\":{\"showticklabels\":true,\"gridwidth\":0.5,\"tickvals\":[5.0,10.0,15.0,20.0,25.0],\"visible\":true,\"ticks\":\"inside\",\"range\":[0.5,27.5],\"domain\":[0.030635753864100293,0.9878827646544183],\"tickmode\":\"array\",\"linecolor\":\"rgba(0, 0, 0, 1.000)\",\"autorange\":\"reversed\",\"showgrid\":false,\"title\":\"\",\"mirror\":true,\"tickangle\":0,\"showline\":true,\"gridcolor\":\"rgba(0, 0, 0, 0.100)\",\"titlefont\":{\"color\":\"rgba(0, 0, 0, 1.000)\",\"family\":\"sans-serif\",\"size\":15},\"tickcolor\":\"rgb(0, 0, 0)\",\"ticktext\":[\"5\",\"10\",\"15\",\"20\",\"25\"],\"zeroline\":false,\"type\":\"-\",\"tickfont\":{\"color\":\"rgba(0, 0, 0, 1.000)\",\"family\":\"sans-serif\",\"size\":11},\"zerolinecolor\":\"rgba(0, 0, 0, 1.000)\",\"anchor\":\"x\"},\"legend\":{\"bordercolor\":\"rgba(0, 0, 0, 1.000)\",\"bgcolor\":\"rgba(255, 255, 255, 1.000)\",\"font\":{\"color\":\"rgba(0, 0, 0, 1.000)\",\"family\":\"sans-serif\",\"size\":11},\"y\":1.0,\"x\":1.0},\"width\":600});\n",
       "    </script>\n"
      ]
     },
     "execution_count": 170,
     "metadata": {},
     "output_type": "execute_result"
    }
   ],
   "source": [
    "m = [cor(t1,t2) for t1 in TS, t2 in TS ]\n",
    "mean(m)\n",
    "ticks = [repr(x.I) for x in δ(cent)]\n",
    "# show(ticks)\n",
    "spy(m,xformatter = n -> ticks[Int(n)],size = (600,600))"
   ]
  },
  {
   "cell_type": "code",
   "execution_count": 83,
   "metadata": {},
   "outputs": [
    {
     "data": {
      "text/html": [
       "<script src=\"file:///home/ashedko/.julia/v0.6/Plots/src/backends/../../deps/plotly-latest.min.js\"></script>    <div id=\"deb57cd7-2131-4c74-bf08-71ebe8e66e99\" style=\"width:600px;height:400px;\"></div>\n",
       "    <script>\n",
       "    PLOT = document.getElementById('deb57cd7-2131-4c74-bf08-71ebe8e66e99');\n",
       "    Plotly.plot(PLOT, [{\"showlegend\":true,\"mode\":\"lines\",\"xaxis\":\"x\",\"colorbar\":{\"title\":\"\"},\"line\":{\"color\":\"rgba(0, 154, 250, 1.000)\",\"shape\":\"linear\",\"dash\":\"solid\",\"width\":1},\"y\":[-1.7042666320330189,2.455920004053424,-0.33827148110409355,0.5784604364228223,1.4688273713537277,1.5785699314221149,-0.8327863334658523,-0.9850324288826035,-1.7520052965723842,3.0801812310220043,-1.148203281869168,0.8268009977019823,-0.9491143558359988,-0.3113903669707891,0.01720669586724082,1.20104359968375,-0.17782731593109474,-0.7403603955137521,0.024080301927793635,-1.9268387022494597,0.5732578695085909,1.3184351010638709,-0.5498465040729753,-1.0305590856777322,-0.6664693212349782,-1.0588880234321354,-0.3600359757128846,0.8584449043884653,-1.132039189514153,-0.4712420098599758,-0.20434680253051726,0.8452062309744801,-0.4424919985167143,0.5957042981170797,1.2460261185490147,-0.869514832847605,0.01285106827607326,-0.5071670335775537,1.1827895080890543,-1.1433592609435488,-0.11020718920684737,-0.2918514552308596,-0.6056408661943744,-0.5642185996519288,-1.3089606585645832,1.3308725065994509,-1.8435083945981294,-0.8262753474521477,0.5948866626133503,1.3911812111384652,-0.10022524154605997,-0.06348948880711183,-0.9013390981679938,0.47630699671164334,1.0758287948776417,0.3807468789754563,0.3444713223591151,0.5184346922058949,-1.0245085953967088,0.3934447173987683,0.8483012101154144,-1.4482080547224188,0.4218552656359014,-1.05655438750777,-0.70371602036051,-2.484030149885598,-0.4647329824055418,1.1141554918118546,-0.3488371070777068,-0.5082004444879709,0.30699550388563907,-1.309681465721555,0.1681470452320913,-0.7433669895309802,0.9022781584610211,-0.25778214219136764,1.331193026064737,1.7251109065822907,0.3899011419446259,0.8215837146192851,-2.1617168633923454,0.0789499511820395,0.7933552744900353,-0.7497382077004834,-0.993117831089458,-0.3991302729283217,1.7719703784407217,-0.4617892021525793,-1.1438966153383505,1.2222130375044769,-0.9551153184334609,-0.30289509306402246,0.5897722288453999,0.5699671981281477,-0.8579872576766451,-0.05761662939980005,0.9056601454952108,-0.7800604213956245,-1.8851985615149796,0.37945261625404864],\"type\":\"scatter\",\"name\":\"y1\",\"yaxis\":\"y\",\"x\":[1,2,3,4,5,6,7,8,9,10,11,12,13,14,15,16,17,18,19,20,21,22,23,24,25,26,27,28,29,30,31,32,33,34,35,36,37,38,39,40,41,42,43,44,45,46,47,48,49,50,51,52,53,54,55,56,57,58,59,60,61,62,63,64,65,66,67,68,69,70,71,72,73,74,75,76,77,78,79,80,81,82,83,84,85,86,87,88,89,90,91,92,93,94,95,96,97,98,99,100]},{\"showlegend\":true,\"mode\":\"lines\",\"xaxis\":\"x\",\"colorbar\":{\"title\":\"\"},\"line\":{\"color\":\"rgba(227, 111, 71, 1.000)\",\"shape\":\"linear\",\"dash\":\"solid\",\"width\":1},\"y\":[-1.7042666320330189,-0.4562106412070859,-0.42082889317618816,-0.12104209429648505,0.35591874539857876,0.7227141012056395,0.25606397080419196,-0.11626494910184665,-0.606987053343008,0.4991634319664957,0.0049534178157966124,0.25150769178165233,-0.10867892250364303,-0.16949235584378686,-0.11348264033047856,0.28087523167379,0.1432644673923246,-0.1218229914794984,-0.07805200345731078,-0.6326880130949555,-0.27090424831389154,0.20589755649943714,-0.020825661672286555,-0.32374568887392025,-0.4265627785822376,-0.616260352037207,-0.5393930391399102,-0.12004165608139761,-0.4236409161112242,-0.43792124423584966,-0.36784891172424994,-0.003932368914630946,-0.13550025779525593,0.08386110897844476,0.4325106118496157,0.04190297844044949,0.03318740539113662,-0.12891892629947047,0.264593604017087,-0.15779225547110376,-0.14351673559182684,-0.18801715148353668,-0.31330426589678795,-0.3885785660233302,-0.6646931937857061,-0.06602348367015909,-0.5992689569485501,-0.6673708740996294,-0.28869361308573543,0.2152688341815247,0.1206206114632493,0.06538758138214096,-0.2246304224828995,-0.014349196724536661,0.3127042007561168,0.33311700422191864,0.3365232996630776,0.3910967174259228,-0.03358487642086666,0.09452400172502382,0.32065716424214097,-0.21000240144722693,-0.02044510132228841,-0.33127788717793294,-0.443009327132706,-1.0553155739585738,-0.8781407964926642,-0.28045191000130854,-0.300967469124228,-0.36313736173335087,-0.16209750204765389,-0.5063726911498242,-0.30401677023524953,-0.43582183602396873,-0.034391837678471815,-0.10140892903234056,0.3283716574967827,0.7473934322224352,0.6401457451390924,0.6945771359831502,-0.16231106382949845,-0.08993275932603706,0.17505365081878466,-0.10238390673699577,-0.36960408404273437,-0.37846194070841055,0.2666677550363291,0.04813066787965661,-0.30947751708574556,0.15002964929132112,-0.18151384102611345,-0.21792821663748616,0.024381917007379655,0.18805750134361005,-0.12575592636246646,-0.10531413727366654,0.19797814755699664,-0.09543342312878969,-0.6323629646446466,-0.328818290375038],\"type\":\"scatter\",\"name\":\"y2\",\"yaxis\":\"y\",\"x\":[1,2,3,4,5,6,7,8,9,10,11,12,13,14,15,16,17,18,19,20,21,22,23,24,25,26,27,28,29,30,31,32,33,34,35,36,37,38,39,40,41,42,43,44,45,46,47,48,49,50,51,52,53,54,55,56,57,58,59,60,61,62,63,64,65,66,67,68,69,70,71,72,73,74,75,76,77,78,79,80,81,82,83,84,85,86,87,88,89,90,91,92,93,94,95,96,97,98,99,100]}], {\"showlegend\":true,\"xaxis\":{\"showticklabels\":true,\"gridwidth\":0.5,\"tickvals\":[20.0,40.0,60.0,80.0,100.0],\"visible\":true,\"ticks\":\"inside\",\"range\":[1.0,100.0],\"domain\":[0.03619130941965587,0.9934383202099738],\"tickmode\":\"array\",\"linecolor\":\"rgba(0, 0, 0, 1.000)\",\"showgrid\":true,\"title\":\"\",\"mirror\":false,\"tickangle\":0,\"showline\":true,\"gridcolor\":\"rgba(0, 0, 0, 0.100)\",\"titlefont\":{\"color\":\"rgba(0, 0, 0, 1.000)\",\"family\":\"sans-serif\",\"size\":15},\"tickcolor\":\"rgb(0, 0, 0)\",\"ticktext\":[\"20\",\"40\",\"60\",\"80\",\"100\"],\"zeroline\":false,\"type\":\"-\",\"tickfont\":{\"color\":\"rgba(0, 0, 0, 1.000)\",\"family\":\"sans-serif\",\"size\":11},\"zerolinecolor\":\"rgba(0, 0, 0, 1.000)\",\"anchor\":\"y\"},\"paper_bgcolor\":\"rgba(255, 255, 255, 1.000)\",\"annotations\":[],\"height\":400,\"margin\":{\"l\":0,\"b\":20,\"r\":0,\"t\":20},\"plot_bgcolor\":\"rgba(255, 255, 255, 1.000)\",\"yaxis\":{\"showticklabels\":true,\"gridwidth\":0.5,\"tickvals\":[-2.0,-1.0,0.0,1.0,2.0,3.0],\"visible\":true,\"ticks\":\"inside\",\"range\":[-2.484030149885598,3.0801812310220043],\"domain\":[0.03762029746281716,0.9901574803149606],\"tickmode\":\"array\",\"linecolor\":\"rgba(0, 0, 0, 1.000)\",\"showgrid\":true,\"title\":\"\",\"mirror\":false,\"tickangle\":0,\"showline\":true,\"gridcolor\":\"rgba(0, 0, 0, 0.100)\",\"titlefont\":{\"color\":\"rgba(0, 0, 0, 1.000)\",\"family\":\"sans-serif\",\"size\":15},\"tickcolor\":\"rgb(0, 0, 0)\",\"ticktext\":[\"-2\",\"-1\",\"0\",\"1\",\"2\",\"3\"],\"zeroline\":false,\"type\":\"-\",\"tickfont\":{\"color\":\"rgba(0, 0, 0, 1.000)\",\"family\":\"sans-serif\",\"size\":11},\"zerolinecolor\":\"rgba(0, 0, 0, 1.000)\",\"anchor\":\"x\"},\"legend\":{\"bordercolor\":\"rgba(0, 0, 0, 1.000)\",\"bgcolor\":\"rgba(255, 255, 255, 1.000)\",\"font\":{\"color\":\"rgba(0, 0, 0, 1.000)\",\"family\":\"sans-serif\",\"size\":11},\"y\":1.0,\"x\":1.0},\"width\":600});\n",
       "    </script>\n"
      ]
     },
     "execution_count": 83,
     "metadata": {},
     "output_type": "execute_result"
    }
   ],
   "source": [
    "r = randn(100)\n",
    "plot(r)\n",
    "plot!(ewma(r,0.3))"
   ]
  },
  {
   "cell_type": "code",
   "execution_count": 100,
   "metadata": {
    "collapsed": true
   },
   "outputs": [],
   "source": [
    "d = 1\n",
    "Gclear = copy(Gl);\n",
    "Gclear[:,:,1:2] .= 0 \n",
    "Gclear[:,1:2,:] .= 0 \n",
    "Gclear[1:2,:,:] .= 0 \n",
    "\n",
    "Gclear[:,:,end-1:end] .= 0 \n",
    "Gclear[:,end-1:end,:] .= 0 \n",
    "Gclear[end-1:end,:,:] .= 0;\n"
   ]
  },
  {
   "cell_type": "code",
   "execution_count": 97,
   "metadata": {},
   "outputs": [
    {
     "data": {
      "text/html": [
       "<?xml version=\"1.0\" encoding=\"utf-8\"?>\n",
       "<svg xmlns=\"http://www.w3.org/2000/svg\" xmlns:xlink=\"http://www.w3.org/1999/xlink\" width=\"600\" height=\"400\" viewBox=\"0 0 600 400\">\n",
       "<defs>\n",
       "  <clipPath id=\"clip4800\">\n",
       "    <rect x=\"0\" y=\"0\" width=\"600\" height=\"400\"/>\n",
       "  </clipPath>\n",
       "</defs>\n",
       "<polygon clip-path=\"url(#clip4800)\" points=\"\n",
       "0,400 600,400 600,0 0,0 \n",
       "  \" fill=\"#ffffff\" fill-opacity=\"1\"/>\n",
       "<defs>\n",
       "  <clipPath id=\"clip4801\">\n",
       "    <rect x=\"120\" y=\"0\" width=\"421\" height=\"400\"/>\n",
       "  </clipPath>\n",
       "</defs>\n",
       "<polygon clip-path=\"url(#clip4800)\" points=\"\n",
       "48.6962,375.813 580.315,375.813 580.315,11.811 48.6962,11.811 \n",
       "  \" fill=\"#ffffff\" fill-opacity=\"1\"/>\n",
       "<defs>\n",
       "  <clipPath id=\"clip4802\">\n",
       "    <rect x=\"48\" y=\"11\" width=\"533\" height=\"365\"/>\n",
       "  </clipPath>\n",
       "</defs>\n",
       "<polyline clip-path=\"url(#clip4802)\" style=\"stroke:#000000; stroke-width:0.5; stroke-opacity:0.1; fill:none\" points=\"\n",
       "  160.927,375.813 160.927,11.811 \n",
       "  \"/>\n",
       "<polyline clip-path=\"url(#clip4802)\" style=\"stroke:#000000; stroke-width:0.5; stroke-opacity:0.1; fill:none\" points=\"\n",
       "  279.064,375.813 279.064,11.811 \n",
       "  \"/>\n",
       "<polyline clip-path=\"url(#clip4802)\" style=\"stroke:#000000; stroke-width:0.5; stroke-opacity:0.1; fill:none\" points=\"\n",
       "  397.202,375.813 397.202,11.811 \n",
       "  \"/>\n",
       "<polyline clip-path=\"url(#clip4802)\" style=\"stroke:#000000; stroke-width:0.5; stroke-opacity:0.1; fill:none\" points=\"\n",
       "  515.339,375.813 515.339,11.811 \n",
       "  \"/>\n",
       "<polyline clip-path=\"url(#clip4802)\" style=\"stroke:#000000; stroke-width:0.5; stroke-opacity:0.1; fill:none\" points=\"\n",
       "  48.6962,375.813 580.315,375.813 \n",
       "  \"/>\n",
       "<polyline clip-path=\"url(#clip4802)\" style=\"stroke:#000000; stroke-width:0.5; stroke-opacity:0.1; fill:none\" points=\"\n",
       "  48.6962,292.578 580.315,292.578 \n",
       "  \"/>\n",
       "<polyline clip-path=\"url(#clip4802)\" style=\"stroke:#000000; stroke-width:0.5; stroke-opacity:0.1; fill:none\" points=\"\n",
       "  48.6962,209.342 580.315,209.342 \n",
       "  \"/>\n",
       "<polyline clip-path=\"url(#clip4802)\" style=\"stroke:#000000; stroke-width:0.5; stroke-opacity:0.1; fill:none\" points=\"\n",
       "  48.6962,126.107 580.315,126.107 \n",
       "  \"/>\n",
       "<polyline clip-path=\"url(#clip4802)\" style=\"stroke:#000000; stroke-width:0.5; stroke-opacity:0.1; fill:none\" points=\"\n",
       "  48.6962,42.8711 580.315,42.8711 \n",
       "  \"/>\n",
       "<polyline clip-path=\"url(#clip4800)\" style=\"stroke:#000000; stroke-width:1; stroke-opacity:1; fill:none\" points=\"\n",
       "  48.6962,375.813 580.315,375.813 \n",
       "  \"/>\n",
       "<polyline clip-path=\"url(#clip4800)\" style=\"stroke:#000000; stroke-width:1; stroke-opacity:1; fill:none\" points=\"\n",
       "  48.6962,375.813 48.6962,11.811 \n",
       "  \"/>\n",
       "<polyline clip-path=\"url(#clip4800)\" style=\"stroke:#000000; stroke-width:1; stroke-opacity:1; fill:none\" points=\"\n",
       "  160.927,375.813 160.927,370.353 \n",
       "  \"/>\n",
       "<polyline clip-path=\"url(#clip4800)\" style=\"stroke:#000000; stroke-width:1; stroke-opacity:1; fill:none\" points=\"\n",
       "  279.064,375.813 279.064,370.353 \n",
       "  \"/>\n",
       "<polyline clip-path=\"url(#clip4800)\" style=\"stroke:#000000; stroke-width:1; stroke-opacity:1; fill:none\" points=\"\n",
       "  397.202,375.813 397.202,370.353 \n",
       "  \"/>\n",
       "<polyline clip-path=\"url(#clip4800)\" style=\"stroke:#000000; stroke-width:1; stroke-opacity:1; fill:none\" points=\"\n",
       "  515.339,375.813 515.339,370.353 \n",
       "  \"/>\n",
       "<polyline clip-path=\"url(#clip4800)\" style=\"stroke:#000000; stroke-width:1; stroke-opacity:1; fill:none\" points=\"\n",
       "  48.6962,375.813 56.6705,375.813 \n",
       "  \"/>\n",
       "<polyline clip-path=\"url(#clip4800)\" style=\"stroke:#000000; stroke-width:1; stroke-opacity:1; fill:none\" points=\"\n",
       "  48.6962,292.578 56.6705,292.578 \n",
       "  \"/>\n",
       "<polyline clip-path=\"url(#clip4800)\" style=\"stroke:#000000; stroke-width:1; stroke-opacity:1; fill:none\" points=\"\n",
       "  48.6962,209.342 56.6705,209.342 \n",
       "  \"/>\n",
       "<polyline clip-path=\"url(#clip4800)\" style=\"stroke:#000000; stroke-width:1; stroke-opacity:1; fill:none\" points=\"\n",
       "  48.6962,126.107 56.6705,126.107 \n",
       "  \"/>\n",
       "<polyline clip-path=\"url(#clip4800)\" style=\"stroke:#000000; stroke-width:1; stroke-opacity:1; fill:none\" points=\"\n",
       "  48.6962,42.8711 56.6705,42.8711 \n",
       "  \"/>\n",
       "<g clip-path=\"url(#clip4800)\">\n",
       "<text style=\"fill:#000000; fill-opacity:1; font-family:Arial,Helvetica Neue,Helvetica,sans-serif; font-size:12; text-anchor:middle;\" transform=\"rotate(0, 160.927, 389.613)\" x=\"160.927\" y=\"389.613\">20</text>\n",
       "</g>\n",
       "<g clip-path=\"url(#clip4800)\">\n",
       "<text style=\"fill:#000000; fill-opacity:1; font-family:Arial,Helvetica Neue,Helvetica,sans-serif; font-size:12; text-anchor:middle;\" transform=\"rotate(0, 279.064, 389.613)\" x=\"279.064\" y=\"389.613\">40</text>\n",
       "</g>\n",
       "<g clip-path=\"url(#clip4800)\">\n",
       "<text style=\"fill:#000000; fill-opacity:1; font-family:Arial,Helvetica Neue,Helvetica,sans-serif; font-size:12; text-anchor:middle;\" transform=\"rotate(0, 397.202, 389.613)\" x=\"397.202\" y=\"389.613\">60</text>\n",
       "</g>\n",
       "<g clip-path=\"url(#clip4800)\">\n",
       "<text style=\"fill:#000000; fill-opacity:1; font-family:Arial,Helvetica Neue,Helvetica,sans-serif; font-size:12; text-anchor:middle;\" transform=\"rotate(0, 515.339, 389.613)\" x=\"515.339\" y=\"389.613\">80</text>\n",
       "</g>\n",
       "<g clip-path=\"url(#clip4800)\">\n",
       "<text style=\"fill:#000000; fill-opacity:1; font-family:Arial,Helvetica Neue,Helvetica,sans-serif; font-size:12; text-anchor:end;\" transform=\"rotate(0, 42.6962, 380.313)\" x=\"42.6962\" y=\"380.313\">0</text>\n",
       "</g>\n",
       "<g clip-path=\"url(#clip4800)\">\n",
       "<text style=\"fill:#000000; fill-opacity:1; font-family:Arial,Helvetica Neue,Helvetica,sans-serif; font-size:12; text-anchor:end;\" transform=\"rotate(0, 42.6962, 297.078)\" x=\"42.6962\" y=\"297.078\">5000</text>\n",
       "</g>\n",
       "<g clip-path=\"url(#clip4800)\">\n",
       "<text style=\"fill:#000000; fill-opacity:1; font-family:Arial,Helvetica Neue,Helvetica,sans-serif; font-size:12; text-anchor:end;\" transform=\"rotate(0, 42.6962, 213.842)\" x=\"42.6962\" y=\"213.842\">10000</text>\n",
       "</g>\n",
       "<g clip-path=\"url(#clip4800)\">\n",
       "<text style=\"fill:#000000; fill-opacity:1; font-family:Arial,Helvetica Neue,Helvetica,sans-serif; font-size:12; text-anchor:end;\" transform=\"rotate(0, 42.6962, 130.607)\" x=\"42.6962\" y=\"130.607\">15000</text>\n",
       "</g>\n",
       "<g clip-path=\"url(#clip4800)\">\n",
       "<text style=\"fill:#000000; fill-opacity:1; font-family:Arial,Helvetica Neue,Helvetica,sans-serif; font-size:12; text-anchor:end;\" transform=\"rotate(0, 42.6962, 47.3711)\" x=\"42.6962\" y=\"47.3711\">20000</text>\n",
       "</g>\n",
       "<polyline clip-path=\"url(#clip4802)\" style=\"stroke:#009af9; stroke-width:1; stroke-opacity:1; fill:none\" points=\"\n",
       "  48.6962,375.813 54.6031,375.813 60.5099,337.595 66.4168,333.39 72.3237,332.408 78.2306,326.162 84.1374,329.878 90.0443,336.495 95.9512,333.559 101.858,337.61 \n",
       "  107.765,337.906 113.672,347.233 119.579,343.866 125.486,348.47 131.392,338.038 137.299,333.294 143.206,338.213 149.113,341.034 155.02,339.28 160.927,338.663 \n",
       "  166.834,330.091 172.741,325.874 178.647,330.197 184.554,313.869 190.461,280.732 196.368,235.045 202.275,230.735 208.182,147.059 214.089,37.6863 219.996,14.0629 \n",
       "  225.902,11.811 231.809,140.004 237.716,87.2374 243.623,118.062 249.53,265.885 255.437,271.534 261.344,285.76 267.251,264.66 273.157,294.342 279.064,301.185 \n",
       "  284.971,309.82 290.878,307.311 296.785,305.169 302.692,312.086 308.599,320.884 314.506,332.743 320.412,325.062 326.319,339.437 332.226,339.558 338.133,327.794 \n",
       "  344.04,327.569 349.947,328.423 355.854,319.6 361.761,322.208 367.667,331.126 373.574,334.577 379.481,340.065 385.388,341.486 391.295,339.561 397.202,348.016 \n",
       "  403.109,340.913 409.016,340.475 414.922,336.369 420.829,323.131 426.736,313.558 432.643,314.169 438.55,304.01 444.457,294.688 450.364,281.782 456.271,291.216 \n",
       "  462.177,308.163 468.084,301.835 473.991,277.55 479.898,290.469 485.805,322.89 491.712,319.892 497.619,326.824 503.526,331.043 509.432,338.524 515.339,355.892 \n",
       "  521.246,362.14 527.153,361.435 533.06,362.196 538.967,362.111 544.874,361.319 550.781,363.209 556.687,366.504 562.594,368.825 568.501,369.302 574.408,375.813 \n",
       "  580.315,375.813 \n",
       "  \"/>\n",
       "<polygon clip-path=\"url(#clip4800)\" points=\"\n",
       "489.799,62.931 562.315,62.931 562.315,32.691 489.799,32.691 \n",
       "  \" fill=\"#ffffff\" fill-opacity=\"1\"/>\n",
       "<polyline clip-path=\"url(#clip4800)\" style=\"stroke:#000000; stroke-width:1; stroke-opacity:1; fill:none\" points=\"\n",
       "  489.799,62.931 562.315,62.931 562.315,32.691 489.799,32.691 489.799,62.931 \n",
       "  \"/>\n",
       "<polyline clip-path=\"url(#clip4800)\" style=\"stroke:#009af9; stroke-width:1; stroke-opacity:1; fill:none\" points=\"\n",
       "  495.799,47.811 531.799,47.811 \n",
       "  \"/>\n",
       "<g clip-path=\"url(#clip4800)\">\n",
       "<text style=\"fill:#000000; fill-opacity:1; font-family:Arial,Helvetica Neue,Helvetica,sans-serif; font-size:12; text-anchor:start;\" transform=\"rotate(0, 537.799, 52.311)\" x=\"537.799\" y=\"52.311\">y1</text>\n",
       "</g>\n",
       "</svg>\n"
      ]
     },
     "execution_count": 97,
     "metadata": {},
     "output_type": "execute_result"
    }
   ],
   "source": [
    "plot([maximum(Gclear[:,:,x]) for x=1:size(Gl,3)])"
   ]
  },
  {
   "cell_type": "code",
   "execution_count": 98,
   "metadata": {},
   "outputs": [
    {
     "name": "stdout",
     "output_type": "stream",
     "text": [
      "search: re\u001b[1mv\u001b[22m\u001b[1mi\u001b[22m\u001b[1ms\u001b[22me Re\u001b[1mv\u001b[22m\u001b[1mi\u001b[22m\u001b[1ms\u001b[22me in\u001b[1mv\u001b[22m\u001b[1mi\u001b[22m\u001b[1ms\u001b[22mible gl\u001b[1mv\u001b[22m\u001b[1mi\u001b[22m\u001b[1ms\u001b[22mualize Super\u001b[1mv\u001b[22m\u001b[1mi\u001b[22m\u001b[1ms\u001b[22medLoss Unsuper\u001b[1mv\u001b[22m\u001b[1mi\u001b[22m\u001b[1ms\u001b[22medLoss\n",
      "\n",
      "Couldn't find \u001b[36mvis\n",
      "\u001b[39mPerhaps you meant cis, is, view, vox, var, vec, svds, div, fps, aic, bic or fit\n"
     ]
    },
    {
     "data": {
      "text/markdown": [
       "No documentation found.\n",
       "\n",
       "Binding `vis` does not exist.\n"
      ],
      "text/plain": [
       "No documentation found.\n",
       "\n",
       "Binding `vis` does not exist.\n"
      ]
     },
     "execution_count": 98,
     "metadata": {},
     "output_type": "execute_result"
    }
   ],
   "source": []
  },
  {
   "cell_type": "code",
   "execution_count": null,
   "metadata": {
    "collapsed": true
   },
   "outputs": [],
   "source": []
  }
 ],
 "metadata": {
  "kernelspec": {
   "display_name": "Julia 0.6.2",
   "language": "julia",
   "name": "julia-0.6"
  },
  "language_info": {
   "file_extension": ".jl",
   "mimetype": "application/julia",
   "name": "julia",
   "version": "0.6.2"
  }
 },
 "nbformat": 4,
 "nbformat_minor": 2
}
